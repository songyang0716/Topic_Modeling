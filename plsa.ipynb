{
 "cells": [
  {
   "cell_type": "code",
   "execution_count": 1,
   "metadata": {
    "ExecuteTime": {
     "end_time": "2019-11-07T05:55:31.218431Z",
     "start_time": "2019-11-07T05:55:16.691350Z"
    }
   },
   "outputs": [],
   "source": [
    "# Import packages\n",
    "import pandas as pd\n",
    "import numpy as np\n",
    "import datetime\n",
    "from collections import defaultdict\n",
    "import nltk\n",
    "import random"
   ]
  },
  {
   "cell_type": "code",
   "execution_count": 3,
   "metadata": {
    "ExecuteTime": {
     "end_time": "2019-11-07T05:56:01.894924Z",
     "start_time": "2019-11-07T05:56:01.859018Z"
    }
   },
   "outputs": [],
   "source": [
    "stemmer = nltk.stem.snowball.SnowballStemmer(\"english\")\n",
    "data_dir = \"/Users/yangsong/Desktop/Projects/gitrepo_songyang0716/Topic_Modeling/reviews_small.txt\"\n",
    "np.random.seed(666)\n",
    "\n",
    "# read review texts\n",
    "reviews = []\n",
    "f = open(data_dir, \"r\")\n",
    "for review in f:\n",
    "    reviews.append(review)\n",
    "random.shuffle(reviews)"
   ]
  },
  {
   "cell_type": "code",
   "execution_count": 4,
   "metadata": {
    "ExecuteTime": {
     "end_time": "2019-11-07T05:56:05.900122Z",
     "start_time": "2019-11-07T05:56:02.965706Z"
    }
   },
   "outputs": [],
   "source": [
    "# process text\n",
    "# tokenize, lower, remove stop words, stem, then only keep alphabets in the string\n",
    "clean_reviews = []\n",
    "for review in reviews:\n",
    "    s = nltk.word_tokenize(review)\n",
    "    s = [word.lower() for word in s]\n",
    "    s = [word for word in s if not word in set(\n",
    "        nltk.corpus.stopwords.words('english'))]\n",
    "    s = [stemmer.stem(word) for word in s if word.isalpha()]\n",
    "    clean_reviews.append(s)"
   ]
  },
  {
   "cell_type": "code",
   "execution_count": 82,
   "metadata": {
    "ExecuteTime": {
     "end_time": "2019-11-08T01:26:14.516075Z",
     "start_time": "2019-11-08T01:26:14.512291Z"
    }
   },
   "outputs": [],
   "source": [
    "unique_words = set([word for review in clean_reviews for word in review])"
   ]
  },
  {
   "cell_type": "code",
   "execution_count": 98,
   "metadata": {
    "ExecuteTime": {
     "end_time": "2019-11-08T06:41:36.533343Z",
     "start_time": "2019-11-08T06:41:36.515599Z"
    }
   },
   "outputs": [],
   "source": [
    "\n",
    "def plsa(clean_reviews, num_of_topics, num_of_iterations, num_of_unique_words):\n",
    "\t####################################################################################\n",
    "\t### clean_reviews: clean reviews that has been tokenized, store in a list        ###\n",
    "\t### num_of_topics: number of topics to generate                                  ###\n",
    "\t### number_of_iterations: collapsed gibbs sampling iterations                    ###\n",
    "\t####################################################################################\n",
    "\t# words dictionary\n",
    "\tword_index = {}\n",
    "\tindex_word = {}\n",
    "\tindex = 0\n",
    "\tfor review in clean_reviews:\n",
    "\t\tfor word in review:\n",
    "\t\t\tif word in word_index:\n",
    "\t\t\t\tpass\n",
    "\t\t\telse:\n",
    "\t\t\t\tword_index[word] = index\n",
    "\t\t\t\tindex_word[index] = word\n",
    "\t\t\t\tindex += 1\n",
    "\n",
    "\t# words counts matrix\n",
    "\tn_doc = len(clean_reviews)\n",
    "\n",
    "\t# record the count of each word occured in each document\n",
    "\tndw = np.zeros((n_doc, num_of_unique_words))\n",
    "\tfor i, review in enumerate(clean_reviews):\n",
    "\t\tfor word in review:\n",
    "\t\t\tl = word_index[word]\n",
    "\t\t\tndw[i, l] += 1\n",
    "\n",
    "\n",
    "\t# words distribution in each topics\n",
    "\tnwz = np.random.rand(num_of_unique_words, num_of_topics)\n",
    "\tpwz = nwz/nwz.sum(axis=0,keepdims=1)\n",
    "\t# the topic distribution for each document\n",
    "\tnzd = np.random.rand(num_of_topics, n_doc)\n",
    "\tpzd = nzd/nzd.sum(axis=0,keepdims=1)\n",
    "\n",
    "\tpzwd = np.zeros((num_of_topics, num_of_unique_words, n_doc))\n",
    "\n",
    "\tfor i in range(num_of_iterations):\n",
    "\t\t# E-step\n",
    "\t\tpwd = np.matmul(pwz, pzd)\n",
    "\t\tfor j in range(num_of_unique_words):\n",
    "\t\t\tfor k in range(len(clean_reviews)): \n",
    "\t\t\t\tpzwd[:,j,k] = np.multiply(pwz[j,:], pzd[:,k]) / pwd[j,k]\n",
    "\n",
    "\t\t# M-step\n",
    "\t\t# update pwz\n",
    "\t\tfor k in range(num_of_topics): \n",
    "\t\t\tfor j in range(num_of_unique_words):\n",
    "\t\t\t\tpwz[j,k] = np.matmul(ndw[:,j], pzwd[k,j,:])\n",
    "\t\t\tpwz[:,k] = pwz[:,k] / np.sum(pwz[:,k])\n",
    "\n",
    "\t\t# update pzd\n",
    "\t\tfor k in range(n_doc):\n",
    "\t\t\tfor j in range(num_of_topics):\n",
    "\t\t\t\tpzd[j,k] = np.matmul(ndw[k,:], pzwd[j,:,k]) \n",
    "\t\t\tpzd[:,k] =  pzd[:,k] / np.sum(pzd[:,k])\n",
    "\n",
    "\treturn pwz, pzd, index_word"
   ]
  },
  {
   "cell_type": "code",
   "execution_count": 121,
   "metadata": {
    "ExecuteTime": {
     "end_time": "2019-11-08T06:55:13.870712Z",
     "start_time": "2019-11-08T06:55:13.868204Z"
    }
   },
   "outputs": [],
   "source": [
    "num_of_topics = 3\n",
    "num_of_iterations = 100"
   ]
  },
  {
   "cell_type": "code",
   "execution_count": null,
   "metadata": {
    "ExecuteTime": {
     "start_time": "2019-11-08T06:55:17.670Z"
    }
   },
   "outputs": [],
   "source": [
    "pwz, pzd, index_word = plsa(clean_reviews, num_of_topics, num_of_iterations, len(unique_words))"
   ]
  },
  {
   "cell_type": "code",
   "execution_count": null,
   "metadata": {
    "ExecuteTime": {
     "start_time": "2019-11-08T06:55:23.067Z"
    }
   },
   "outputs": [],
   "source": [
    "for i in range(num_of_topics):\n",
    "    print(\"Topic:\", i+1)\n",
    "    top_words = pwz[:,i].argsort()[-10:][::-1]\n",
    "    word_list = []\n",
    "    for j in top_words:\n",
    "        word_list.append(index_word[j])\n",
    "    print(\" \".join(word_list))"
   ]
  },
  {
   "cell_type": "code",
   "execution_count": null,
   "metadata": {},
   "outputs": [],
   "source": []
  }
 ],
 "metadata": {
  "kernelspec": {
   "display_name": "Python 3",
   "language": "python",
   "name": "python3"
  },
  "language_info": {
   "codemirror_mode": {
    "name": "ipython",
    "version": 3
   },
   "file_extension": ".py",
   "mimetype": "text/x-python",
   "name": "python",
   "nbconvert_exporter": "python",
   "pygments_lexer": "ipython3",
   "version": "3.6.6"
  },
  "toc": {
   "base_numbering": 1,
   "nav_menu": {},
   "number_sections": true,
   "sideBar": true,
   "skip_h1_title": false,
   "title_cell": "Table of Contents",
   "title_sidebar": "Contents",
   "toc_cell": false,
   "toc_position": {},
   "toc_section_display": true,
   "toc_window_display": false
  },
  "varInspector": {
   "cols": {
    "lenName": 16,
    "lenType": 16,
    "lenVar": 40
   },
   "kernels_config": {
    "python": {
     "delete_cmd_postfix": "",
     "delete_cmd_prefix": "del ",
     "library": "var_list.py",
     "varRefreshCmd": "print(var_dic_list())"
    },
    "r": {
     "delete_cmd_postfix": ") ",
     "delete_cmd_prefix": "rm(",
     "library": "var_list.r",
     "varRefreshCmd": "cat(var_dic_list()) "
    }
   },
   "types_to_exclude": [
    "module",
    "function",
    "builtin_function_or_method",
    "instance",
    "_Feature"
   ],
   "window_display": false
  }
 },
 "nbformat": 4,
 "nbformat_minor": 2
}
